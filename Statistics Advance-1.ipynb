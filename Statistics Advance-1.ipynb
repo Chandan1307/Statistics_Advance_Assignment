{
 "cells": [
  {
   "cell_type": "markdown",
   "id": "0ae52939-1537-4a10-a9b9-664b15283be2",
   "metadata": {},
   "source": [
    "## Q1. What is the Probability density function?"
   ]
  },
  {
   "cell_type": "markdown",
   "id": "d00b3131-8dba-445d-8e6a-0ca0949455da",
   "metadata": {},
   "source": [
    "In probability theory, a probability density function (PDF) is a mathematical function that describes the relative likelihood of observing a random variable to take on a certain value within a given range of values. The PDF is used to characterize the probability distribution of a continuous random variable.\n",
    "\n",
    "The probability density function is defined such that the area under the curve between any two points on the x-axis represents the probability of the random variable taking on a value between those two points. The PDF is non-negative everywhere and its total area under the curve is equal to 1.\n",
    "\n",
    "The shape of the probability density function depends on the type of probability distribution being modeled. For example, the PDF of a normal distribution has a bell-shaped curve, while the PDF of an exponential distribution has a decreasing exponential shape.\n",
    "\n",
    "The probability density function is a fundamental concept in statistics and probability theory and is used to calculate a variety of statistical measures, such as expected values, variances, and quantiles. It is also used to perform statistical inference, such as hypothesis testing and confidence interval estimation."
   ]
  },
  {
   "cell_type": "markdown",
   "id": "8c73126b-50b4-4c49-95d8-1c380ff07fad",
   "metadata": {},
   "source": [
    "## Q2. What are the types of Probability distribution?"
   ]
  },
  {
   "cell_type": "markdown",
   "id": "55a30a3e-fd5d-4f39-9001-ca27b822fe62",
   "metadata": {},
   "source": [
    "There are several types of probability distributions in probability theory and statistics. Some of the commonly used probability distributions are:\n",
    "\n",
    "1. Bernoulli distribution: It is a discrete probability distribution that models the outcome of a single trial of a binary event, such as a coin toss.\n",
    "\n",
    "2. Binomial distribution: It is a discrete probability distribution that models the number of successes in a fixed number of independent trials of a binary event, such as the number of heads in a series of coin tosses.\n",
    "\n",
    "3. Poisson distribution: It is a discrete probability distribution that models the number of events occurring in a fixed interval of time or space, such as the number of calls received by a customer service center in an hour.\n",
    "\n",
    "4. Normal distribution: It is a continuous probability distribution that models the probability distribution of many naturally occurring phenomena, such as heights or weights of people, test scores, and errors in measurements.\n",
    "\n",
    "5. Exponential distribution: It is a continuous probability distribution that models the time between consecutive events in a Poisson process, such as the time between consecutive phone calls to a call center.\n",
    "\n",
    "6. Gamma distribution: It is a continuous probability distribution that models the waiting time until a certain number of events have occurred in a Poisson process.\n",
    "\n",
    "7. Uniform distribution: It is a continuous probability distribution where all values in a given range have an equal probability of occurring, such as the probability of a randomly chosen number between 1 and 10 being any of the numbers between 1 and 10 with equal probability.\n",
    "\n"
   ]
  },
  {
   "cell_type": "markdown",
   "id": "527ded5a-cd90-4d8d-95f7-36c2ad590de1",
   "metadata": {},
   "source": [
    "## Q3. Write a Python function to calculate the probability density function of a normal distribution with given mean and standard deviation at a given point."
   ]
  },
  {
   "cell_type": "markdown",
   "id": "000ad885-2017-4d68-adc8-93b4b1e79a6e",
   "metadata": {},
   "source": [
    "pdf = (1 / (sigma * math.sqrt(2 * math.pi))) * math.exp(-0.5 * ((x - mu) / sigma) ** 2)"
   ]
  },
  {
   "cell_type": "code",
   "execution_count": 3,
   "id": "6887c831-df80-4a78-a545-cf6d63dc0be7",
   "metadata": {},
   "outputs": [],
   "source": [
    "import math\n",
    "\n",
    "def normal_pdf(x, mu, sigma):\n",
    "    \"\"\"\n",
    "    Calculates the probability density function (PDF) of a normal distribution\n",
    "    with given mean (mu) and standard deviation (sigma) at a given point (x).\n",
    "    \"\"\"\n",
    "    pdf = (1 / (sigma * math.sqrt(2 * math.pi))) * math.exp(-0.5 * ((x - mu) / sigma) ** 2)\n",
    "    return pdf"
   ]
  },
  {
   "cell_type": "code",
   "execution_count": 4,
   "id": "002bd183-c335-48cd-926f-959f434d7d56",
   "metadata": {},
   "outputs": [
    {
     "name": "stdout",
     "output_type": "stream",
     "text": [
      "0.12951759566589174\n"
     ]
    }
   ],
   "source": [
    "pdf = normal_pdf(1.5, 0, 1)\n",
    "print(pdf)  # Output: 0.12951759566589174"
   ]
  },
  {
   "cell_type": "markdown",
   "id": "ed4d9732-2dc1-4b31-b0cc-f40bacd4cb55",
   "metadata": {},
   "source": [
    "## Q4. What are the properties of Binomial distribution? Give two examples of events where binomial distribution can be applied."
   ]
  },
  {
   "cell_type": "markdown",
   "id": "9559cb87-0bf1-4c2a-847e-f01f3e2d0385",
   "metadata": {},
   "source": [
    "The binomial distribution is a discrete probability distribution that describes the number of successes in a fixed number of independent trials, each with the same probability of success. \n",
    "\n",
    "The properties of binomial distribution are:\n",
    "\n",
    "1. The trials are independent.\n",
    "2. There are a fixed number of trials.\n",
    "3. Each trial has only two possible outcomes, success or failure.\n",
    "4. The probability of success is constant for each trial.\n",
    "\n",
    "\n",
    "Two examples of events where binomial distribution can be applied are:\n",
    "\n",
    "1. Tossing a coin: If we toss a coin 10 times, the probability of getting heads on each trial is 0.5. The binomial distribution can be used to calculate the probability of getting a certain number of heads in 10 tosses.\n",
    "\n",
    "2. Quality control: A company produces light bulbs, and the probability of producing a defective bulb is 0.05. If a sample of 100 bulbs is taken, the binomial distribution can be used to calculate the probability of a certain number of defective bulbs in the sample.\n"
   ]
  },
  {
   "cell_type": "code",
   "execution_count": 6,
   "id": "520433b8-7c2d-4009-8f75-f4eb25c2b9de",
   "metadata": {},
   "outputs": [
    {
     "name": "stdout",
     "output_type": "stream",
     "text": [
      "The probability of getting exactly 5 heads in 10 tosses is: 0.24609375000000003\n"
     ]
    }
   ],
   "source": [
    "import numpy as np\n",
    "from scipy.stats import binom\n",
    "\n",
    "n = 10  # number of trials\n",
    "p = 0.5  # probability of success\n",
    "\n",
    "k = 5  # number of successes we want to calculate the probability for\n",
    "\n",
    "# Calculate the probability mass function (PMF) for getting k successes\n",
    "pmf = binom.pmf(k, n, p)\n",
    "\n",
    "print(\"The probability of getting exactly 5 heads in 10 tosses is:\", pmf)"
   ]
  },
  {
   "cell_type": "markdown",
   "id": "d2d2302e-a786-4d5f-97e6-40c222e94aa0",
   "metadata": {},
   "source": [
    "## Q5. Generate a random sample of size 1000 from a binomial distribution with probability of success 0.4 and plot a histogram of the results using matplotlib."
   ]
  },
  {
   "cell_type": "code",
   "execution_count": 7,
   "id": "79f38507-397b-433b-8318-20869a998f0b",
   "metadata": {},
   "outputs": [],
   "source": [
    "import numpy as np\n",
    "import matplotlib.pyplot as plt"
   ]
  },
  {
   "cell_type": "code",
   "execution_count": 8,
   "id": "d8f87d58-0f8d-468d-ad60-0340dc6e47dd",
   "metadata": {},
   "outputs": [],
   "source": [
    "# Generate a random sample of size 1000 from a binomial distribution with n=10, p=0.4\n",
    "sample = np.random.binomial(n=10, p=0.4, size=1000)"
   ]
  },
  {
   "cell_type": "code",
   "execution_count": 13,
   "id": "9be0cfea-deab-4c04-988b-98be93ecb248",
   "metadata": {},
   "outputs": [
    {
     "data": {
      "image/png": "[encoded data removed]",
      "text/plain": [
       "<Figure size 640x480 with 1 Axes>"
      ]
     },
     "metadata": {},
     "output_type": "display_data"
    }
   ],
   "source": [
    "# Plot a histogram of the sample using matplotlib\n",
    "plt.hist(sample, bins=range(12), density=True, edgecolor=\"black\", alpha=0.7)\n",
    "plt.xlabel(\"Number of success\")\n",
    "plt.ylabel(\"Frequency\")\n",
    "plt.title(\"Binomial Distribution (n=10, p=0.4)\")\n",
    "plt.show()"
   ]
  },
  {
   "cell_type": "markdown",
   "id": "601e114c-e992-4f44-be34-37ca29aef002",
   "metadata": {},
   "source": [
    "## Q6. Write a Python function to calculate the cumulative distribution function of a Poisson distribution with given mean at a given point."
   ]
  },
  {
   "cell_type": "markdown",
   "id": "b16d81b0-c5d9-49b1-b187-483ebbf7cf00",
   "metadata": {},
   "source": [
    "The cumulative distribution function (CDF) of a Poisson distribution with parameter $\\lambda$ is given by:\n",
    "\n",
    "$F(k; \\lambda) = \\sum_{i=0}^{\\lfloor k \\rfloor} \\frac{\\lambda^i e^{-\\lambda}}{i!}$\n",
    "\n",
    "where $k$ is the number of events.\n",
    "\n",
    "Here is a Python function to calculate the CDF of a Poisson distribution:\n"
   ]
  },
  {
   "cell_type": "code",
   "execution_count": 14,
   "id": "aa7843a4-90bb-4631-8610-f0708d9d7bea",
   "metadata": {},
   "outputs": [
    {
     "name": "stdout",
     "output_type": "stream",
     "text": [
      "0.8571234604985472\n"
     ]
    }
   ],
   "source": [
    "import math\n",
    "\n",
    "def poisson_cdf(k, lam):\n",
    "    cdf = 0\n",
    "    for i in range(math.floor(k) + 1):\n",
    "        cdf += (lam ** i) * math.exp(-lam) / math.factorial(i)\n",
    "    return cdf\n",
    "print(poisson_cdf(3, 2))"
   ]
  },
  {
   "cell_type": "markdown",
   "id": "47fbd5d9-542f-4982-a045-24a12ef7478d",
   "metadata": {},
   "source": [
    "This will output the value of the Poisson CDF at k=3 and lambda=2."
   ]
  },
  {
   "cell_type": "markdown",
   "id": "2749913c-8ee5-45dc-99ce-2c909caea67d",
   "metadata": {},
   "source": [
    "## Q7. How Binomial distribution different from Poisson distribution?"
   ]
  },
  {
   "cell_type": "markdown",
   "id": "103f6ef6-dafb-4d41-bc32-81d77cd8a9b3",
   "metadata": {},
   "source": [
    "Binomial distribution and Poisson distribution are two types of probability distributions that are used in statistical analysis.\n",
    "\n",
    "The main differences between binomial and Poisson distributions are:\n",
    "\n",
    "1. The number of trials: The binomial distribution is used when there are a fixed number of independent trials, while the Poisson distribution is used when the number of trials is not fixed.\n",
    "\n",
    "2. Probability of success: In a binomial distribution, the probability of success is constant across all trials, while in a Poisson distribution, the probability of success can vary from trial to trial.\n",
    "\n",
    "3. Distribution shape: Binomial distribution is usually bell-shaped or symmetric, while Poisson distribution is usually skewed to the right.\n",
    "\n",
    "4. Mean and variance: The mean and variance of a binomial distribution are related to the number of trials and the probability of success, while the mean and variance of a Poisson distribution are related only to the mean.\n",
    "\n",
    "Examples of where binomial distribution can be applied:\n",
    "\n",
    "-Tossing a coin a fixed number of times and counting the number of heads.\n",
    "\n",
    "-Testing a batch of items for defects and counting the number of defective items.\n",
    "\n",
    "\n",
    "\n",
    "Examples of where Poisson distribution can be applied:\n",
    "\n",
    "-The number of cars passing through a busy intersection during a given time interval.\n",
    "\n",
    "-The number of phone calls received by a call center in a given hour."
   ]
  },
  {
   "cell_type": "markdown",
   "id": "73777247-1211-4e49-9e9b-577e819dd591",
   "metadata": {},
   "source": [
    "## Q8. Generate a random sample of size 1000 from a Poisson distribution with mean 5 and calculate the sample mean and variance."
   ]
  },
  {
   "cell_type": "code",
   "execution_count": 15,
   "id": "29bc3e5f-3b3a-4054-83d6-f7fa87021a37",
   "metadata": {},
   "outputs": [],
   "source": [
    "import numpy as np"
   ]
  },
  {
   "cell_type": "code",
   "execution_count": 21,
   "id": "e183eff3-8aa9-45f0-be3e-40c6bdccada4",
   "metadata": {},
   "outputs": [
    {
     "name": "stdout",
     "output_type": "stream",
     "text": [
      "Sample mean: 5.067\n",
      "Sample var: 5.116511\n"
     ]
    }
   ],
   "source": [
    "sample = np.random.poisson(5, size=1000)\n",
    "sample_mean = np.mean(sample)\n",
    "sample_var = np.var(sample)\n",
    "\n",
    "print(\"Sample mean:\", sample_mean)\n",
    "print(\"Sample var:\", sample_var)"
   ]
  },
  {
   "cell_type": "markdown",
   "id": "00bf6e0d-deb4-4e8c-96e0-a3e3e98776d8",
   "metadata": {},
   "source": [
    "## Q9. How mean and variance are related in Binomial distribution and Poisson distribution?"
   ]
  },
  {
   "cell_type": "markdown",
   "id": "a7bfb169-1999-46df-9848-9793beeaa88f",
   "metadata": {},
   "source": [
    "Mean = n * p\n",
    "\n",
    "Variance = n * p * (1 - p)\n",
    "\n",
    "Where n is the number of trials and p is the probability of success in each trial.\n",
    "\n",
    "In a Poisson distribution, the mean and variance are equal:\n",
    "\n",
    "Mean = Variance = λ\n",
    "\n",
    "Where λ is the rate parameter of the Poisson distribution."
   ]
  },
  {
   "cell_type": "markdown",
   "id": "1c1e3459-ad53-4bed-bc51-425eca26359e",
   "metadata": {},
   "source": [
    "## Q10. In normal distribution with respect to mean position, where does the least frequent data appear?"
   ]
  },
  {
   "cell_type": "markdown",
   "id": "fc2dc403-f7c9-4d83-b57e-d545fea434d3",
   "metadata": {},
   "source": [
    "In a normal distribution, the least frequent data appears in the tails of the distribution, which are the areas furthest away from the mean. This is because the normal distribution is symmetrical around its mean, and the frequency of data decreases as you move away from the mean in either direction. The tails of the distribution contain the extreme values, which occur less frequently than the values closer to the mean."
   ]
  },
  {
   "cell_type": "code",
   "execution_count": null,
   "id": "669fb557-792e-4a0a-a76e-9060e27353a5",
   "metadata": {},
   "outputs": [],
   "source": []
  }
 ],
 "metadata": {
  "kernelspec": {
   "display_name": "Python 3 (ipykernel)",
   "language": "python",
   "name": "python3"
  },
  "language_info": {
   "codemirror_mode": {
    "name": "ipython",
    "version": 3
   },
   "file_extension": ".py",
   "mimetype": "text/x-python",
   "name": "python",
   "nbconvert_exporter": "python",
   "pygments_lexer": "ipython3",
   "version": "3.10.8"
  }
 },
 "nbformat": 4,
 "nbformat_minor": 5
}
